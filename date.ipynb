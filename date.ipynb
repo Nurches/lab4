{
 "cells": [
  {
   "cell_type": "code",
   "execution_count": 7,
   "metadata": {},
   "outputs": [
    {
     "name": "stdout",
     "output_type": "stream",
     "text": [
      "The current date: 01/29/25\n",
      "The date 5 days ago: 01/24/25\n"
     ]
    }
   ],
   "source": [
    "#Task 1\n",
    "import datetime\n",
    "\n",
    "x = datetime.datetime.now()\n",
    "print(f\"The current date: {x.strftime(\"%x\")}\")\n",
    "\n",
    "x = x-datetime.timedelta(days=5)\n",
    "\n",
    "print(f\"The date 5 days ago: {x.strftime(\"%x\")}\")\n",
    "\n"
   ]
  },
  {
   "cell_type": "code",
   "execution_count": 8,
   "metadata": {},
   "outputs": [
    {
     "name": "stdout",
     "output_type": "stream",
     "text": [
      "Today is Wednesday\n",
      "Yestarday was Tuesday\n",
      "Tomorrow will be Thursday\n"
     ]
    }
   ],
   "source": [
    "#Task 2\n",
    "today = datetime.datetime.now()\n",
    "print(f\"Today is {today.strftime(\"%A\")}\")\n",
    "yesterday = today - datetime.timedelta(days=1)\n",
    "print(f\"Yestarday was {yesterday.strftime(\"%A\")}\")\n",
    "tomorrow = today + datetime.timedelta(days=1)\n",
    "print(f\"Tomorrow will be {tomorrow.strftime(\"%A\")}\")"
   ]
  },
  {
   "cell_type": "code",
   "execution_count": 12,
   "metadata": {},
   "outputs": [
    {
     "name": "stdout",
     "output_type": "stream",
     "text": [
      "Current time with microseconds:  00:18:43.105559\n",
      "Current time without microsecond:  00:18:43\n"
     ]
    }
   ],
   "source": [
    "#Task 3\n",
    "time = datetime.datetime.now()\n",
    "print(\"Current time with microseconds: \", time.time())\n",
    "print(\"Current time without microsecond: \", time.strftime(\"%X\"))"
   ]
  },
  {
   "cell_type": "code",
   "execution_count": 13,
   "metadata": {},
   "outputs": [
    {
     "name": "stdout",
     "output_type": "stream",
     "text": [
      "432000\n"
     ]
    }
   ],
   "source": [
    "#Task 4\n",
    "day1 = datetime.datetime.now()\n",
    "day2 = day1-datetime.timedelta(days=5)\n",
    "print((day1.day-day2.day)*86400)"
   ]
  }
 ],
 "metadata": {
  "kernelspec": {
   "display_name": "Python 3",
   "language": "python",
   "name": "python3"
  },
  "language_info": {
   "codemirror_mode": {
    "name": "ipython",
    "version": 3
   },
   "file_extension": ".py",
   "mimetype": "text/x-python",
   "name": "python",
   "nbconvert_exporter": "python",
   "pygments_lexer": "ipython3",
   "version": "3.13.0"
  }
 },
 "nbformat": 4,
 "nbformat_minor": 2
}
